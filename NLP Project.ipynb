{
 "cells": [
  {
   "cell_type": "markdown",
   "id": "43099a48",
   "metadata": {},
   "source": [
    "0. Import required packages"
   ]
  },
  {
   "cell_type": "code",
   "execution_count": 2,
   "id": "72620efb",
   "metadata": {},
   "outputs": [],
   "source": [
    "import pandas as pd\n",
    "import torch\n",
    "import torch.nn as nn\n",
    "import torch.optim as optim\n",
    "import tensorflow as tf\n",
    "import keras.preprocessing.sequence as sequence\n",
    "from sklearn.model_selection import train_test_split\n",
    "from tensorflow.keras.models import Sequential\n",
    "from tensorflow.keras.layers import Dense, Embedding, LSTM\n",
    "from keras.preprocessing.text import Tokenizer\n",
    "from keras.preprocessing.sequence import pad_sequences\n",
    "from transformers import BertTokenizer, BertForSequenceClassification, AdamW\n",
    "from transformers import TrainingArguments, Trainer\n",
    "from torch.utils.data import DataLoader, Dataset\n",
    "from transformers import AutoTokenizer, AutoModel"
   ]
  },
  {
   "cell_type": "markdown",
   "id": "95ff09ed",
   "metadata": {},
   "source": [
    "1. Load and process data"
   ]
  },
  {
   "cell_type": "code",
   "execution_count": 3,
   "id": "cf6e2b77",
   "metadata": {},
   "outputs": [],
   "source": [
    "train_data = pd.read_csv('NLP_exam_real_case_dataset/train.csv')\n",
    "test_data = pd.read_csv('NLP_exam_real_case_dataset/test.csv')\n",
    "complete_data = pd.read_csv('NLP_exam_real_case_dataset/complete.csv')\n",
    "\n",
    "X_train = train_data['article_title'].values\n",
    "y_train = train_data['is_ecology'].values\n",
    "\n",
    "X_test = test_data['article_title'].values\n",
    "y_test = test_data['is_ecology'].values\n",
    "\n",
    "max_words = 10000\n",
    "tokenizer = Tokenizer(num_words=max_words)\n",
    "tokenizer.fit_on_texts(X_train)\n",
    "\n",
    "X_train_seq = tokenizer.texts_to_sequences(X_train)\n",
    "X_test_seq = tokenizer.texts_to_sequences(X_test)\n",
    "\n",
    "max_seq_length = 100\n",
    "X_train_pad = pad_sequences(X_train_seq, maxlen=max_seq_length)\n",
    "X_test_pad = pad_sequences(X_test_seq, maxlen=max_seq_length)\n",
    "\n",
    "X_train_pad, X_val_pad, y_train, y_val = train_test_split(X_train_pad, y_train, test_size=0.2, random_state=42)"
   ]
  },
  {
   "cell_type": "markdown",
   "id": "46d097f8",
   "metadata": {},
   "source": [
    "2. Fully Connected Neural Network Model"
   ]
  },
  {
   "cell_type": "code",
   "execution_count": 4,
   "id": "bf80e0b1",
   "metadata": {},
   "outputs": [
    {
     "name": "stdout",
     "output_type": "stream",
     "text": [
      "Model: \"sequential\"\n",
      "_________________________________________________________________\n",
      " Layer (type)                Output Shape              Param #   \n",
      "=================================================================\n",
      " dense (Dense)               (None, 128)               12928     \n",
      "                                                                 \n",
      " dense_1 (Dense)             (None, 64)                8256      \n",
      "                                                                 \n",
      " dense_2 (Dense)             (None, 1)                 65        \n",
      "                                                                 \n",
      "=================================================================\n",
      "Total params: 21249 (83.00 KB)\n",
      "Trainable params: 21249 (83.00 KB)\n",
      "Non-trainable params: 0 (0.00 Byte)\n",
      "_________________________________________________________________\n",
      "Epoch 1/10\n",
      "56/56 [==============================] - 1s 7ms/step - loss: 10.9284 - accuracy: 0.9453 - val_loss: 3.7199 - val_accuracy: 0.9594\n",
      "Epoch 2/10\n",
      "56/56 [==============================] - 0s 3ms/step - loss: 5.1329 - accuracy: 0.9498 - val_loss: 4.4743 - val_accuracy: 0.9323\n",
      "Epoch 3/10\n",
      "56/56 [==============================] - 0s 3ms/step - loss: 3.9704 - accuracy: 0.9565 - val_loss: 2.9630 - val_accuracy: 0.9707\n",
      "Epoch 4/10\n",
      "56/56 [==============================] - 0s 4ms/step - loss: 2.7065 - accuracy: 0.9661 - val_loss: 2.7527 - val_accuracy: 0.9729\n",
      "Epoch 5/10\n",
      "56/56 [==============================] - 0s 3ms/step - loss: 1.9328 - accuracy: 0.9639 - val_loss: 2.7153 - val_accuracy: 0.9819\n",
      "Epoch 6/10\n",
      "56/56 [==============================] - 0s 3ms/step - loss: 1.5868 - accuracy: 0.9690 - val_loss: 2.3846 - val_accuracy: 0.9684\n",
      "Epoch 7/10\n",
      "56/56 [==============================] - 0s 3ms/step - loss: 1.5139 - accuracy: 0.9695 - val_loss: 2.3751 - val_accuracy: 0.9819\n",
      "Epoch 8/10\n",
      "56/56 [==============================] - 0s 3ms/step - loss: 1.1653 - accuracy: 0.9673 - val_loss: 2.1204 - val_accuracy: 0.9774\n",
      "Epoch 9/10\n",
      "56/56 [==============================] - 0s 3ms/step - loss: 0.8833 - accuracy: 0.9729 - val_loss: 2.7453 - val_accuracy: 0.9910\n",
      "Epoch 10/10\n",
      "56/56 [==============================] - 0s 3ms/step - loss: 1.1697 - accuracy: 0.9780 - val_loss: 2.1481 - val_accuracy: 0.9865\n"
     ]
    },
    {
     "data": {
      "text/plain": [
       "<keras.src.callbacks.History at 0x1247ebba770>"
      ]
     },
     "execution_count": 4,
     "metadata": {},
     "output_type": "execute_result"
    }
   ],
   "source": [
    "model_fcnn = Sequential()\n",
    "model_fcnn.add(Dense(128, activation='relu', input_shape=(max_seq_length,)))\n",
    "model_fcnn.add(Dense(64, activation='relu'))\n",
    "model_fcnn.add(Dense(1, activation='sigmoid'))\n",
    "\n",
    "model_fcnn.compile(optimizer='adam', loss='binary_crossentropy', metrics=['accuracy'])\n",
    "model_fcnn.summary()\n",
    "\n",
    "model_fcnn.fit(X_train_pad, y_train, epochs=10, batch_size=32, validation_data=(X_val_pad, y_val))"
   ]
  },
  {
   "cell_type": "markdown",
   "id": "5c2b1bde",
   "metadata": {},
   "source": [
    "3. Recurrent Neural Network (LSTM) Model"
   ]
  },
  {
   "cell_type": "code",
   "execution_count": 5,
   "id": "d4628f09",
   "metadata": {},
   "outputs": [
    {
     "name": "stdout",
     "output_type": "stream",
     "text": [
      "Model: \"sequential_1\"\n",
      "_________________________________________________________________\n",
      " Layer (type)                Output Shape              Param #   \n",
      "=================================================================\n",
      " embedding (Embedding)       (None, 100, 100)          1000000   \n",
      "                                                                 \n",
      " lstm (LSTM)                 (None, 64)                42240     \n",
      "                                                                 \n",
      " dense_3 (Dense)             (None, 1)                 65        \n",
      "                                                                 \n",
      "=================================================================\n",
      "Total params: 1042305 (3.98 MB)\n",
      "Trainable params: 1042305 (3.98 MB)\n",
      "Non-trainable params: 0 (0.00 Byte)\n",
      "_________________________________________________________________\n",
      "Epoch 1/10\n",
      "56/56 [==============================] - 10s 119ms/step - loss: 0.2211 - accuracy: 0.9633 - val_loss: 0.0671 - val_accuracy: 0.9887\n",
      "Epoch 2/10\n",
      "56/56 [==============================] - 5s 90ms/step - loss: 0.1215 - accuracy: 0.9735 - val_loss: 0.0731 - val_accuracy: 0.9887\n",
      "Epoch 3/10\n",
      "56/56 [==============================] - 4s 73ms/step - loss: 0.1158 - accuracy: 0.9735 - val_loss: 0.0674 - val_accuracy: 0.9887\n",
      "Epoch 4/10\n",
      "56/56 [==============================] - 4s 73ms/step - loss: 0.0956 - accuracy: 0.9735 - val_loss: 0.0699 - val_accuracy: 0.9887\n",
      "Epoch 5/10\n",
      "56/56 [==============================] - 4s 71ms/step - loss: 0.0444 - accuracy: 0.9797 - val_loss: 0.1003 - val_accuracy: 0.9842\n",
      "Epoch 6/10\n",
      "56/56 [==============================] - 4s 71ms/step - loss: 0.0096 - accuracy: 0.9994 - val_loss: 0.0764 - val_accuracy: 0.9887\n",
      "Epoch 7/10\n",
      "56/56 [==============================] - 4s 73ms/step - loss: 0.0031 - accuracy: 1.0000 - val_loss: 0.0868 - val_accuracy: 0.9819\n",
      "Epoch 8/10\n",
      "56/56 [==============================] - 4s 79ms/step - loss: 0.0019 - accuracy: 1.0000 - val_loss: 0.0918 - val_accuracy: 0.9797\n",
      "Epoch 9/10\n",
      "56/56 [==============================] - 4s 78ms/step - loss: 0.0013 - accuracy: 1.0000 - val_loss: 0.0872 - val_accuracy: 0.9865\n",
      "Epoch 10/10\n",
      "56/56 [==============================] - 4s 76ms/step - loss: 0.0011 - accuracy: 1.0000 - val_loss: 0.0874 - val_accuracy: 0.9887\n"
     ]
    },
    {
     "data": {
      "text/plain": [
       "<keras.src.callbacks.History at 0x1240005fa30>"
      ]
     },
     "execution_count": 5,
     "metadata": {},
     "output_type": "execute_result"
    }
   ],
   "source": [
    "model_lstm = Sequential()\n",
    "model_lstm.add(Embedding(max_words, 100, input_length=max_seq_length))\n",
    "model_lstm.add(LSTM(64))\n",
    "model_lstm.add(Dense(1, activation='sigmoid'))\n",
    "\n",
    "model_lstm.compile(optimizer='adam', loss='binary_crossentropy', metrics=['accuracy'])\n",
    "model_lstm.summary()\n",
    "\n",
    "model_lstm.fit(X_train_pad, y_train, epochs=10, batch_size=32, validation_data=(X_val_pad, y_val))"
   ]
  },
  {
   "cell_type": "markdown",
   "id": "e71cbcf6",
   "metadata": {},
   "source": [
    "4. BERT model"
   ]
  },
  {
   "cell_type": "code",
   "execution_count": 9,
   "id": "e04c166a",
   "metadata": {},
   "outputs": [
    {
     "ename": "ValueError",
     "evalue": "Found input variables with inconsistent numbers of samples: [3, 1772]",
     "output_type": "error",
     "traceback": [
      "\u001b[1;31m---------------------------------------------------------------------------\u001b[0m",
      "\u001b[1;31mValueError\u001b[0m                                Traceback (most recent call last)",
      "Cell \u001b[1;32mIn[9], line 23\u001b[0m\n\u001b[0;32m     21\u001b[0m X_train_encodings \u001b[38;5;241m=\u001b[39m tokenizer(\u001b[38;5;28mlist\u001b[39m(X_train), padding\u001b[38;5;241m=\u001b[39m\u001b[38;5;28;01mTrue\u001b[39;00m, truncation\u001b[38;5;241m=\u001b[39m\u001b[38;5;28;01mTrue\u001b[39;00m, max_length\u001b[38;5;241m=\u001b[39mmax_seq_length, return_tensors\u001b[38;5;241m=\u001b[39m\u001b[38;5;124m'\u001b[39m\u001b[38;5;124mpt\u001b[39m\u001b[38;5;124m'\u001b[39m)\n\u001b[0;32m     22\u001b[0m X_test_encodings \u001b[38;5;241m=\u001b[39m tokenizer(\u001b[38;5;28mlist\u001b[39m(X_test), padding\u001b[38;5;241m=\u001b[39m\u001b[38;5;28;01mTrue\u001b[39;00m, truncation\u001b[38;5;241m=\u001b[39m\u001b[38;5;28;01mTrue\u001b[39;00m, max_length\u001b[38;5;241m=\u001b[39mmax_seq_length, return_tensors\u001b[38;5;241m=\u001b[39m\u001b[38;5;124m'\u001b[39m\u001b[38;5;124mpt\u001b[39m\u001b[38;5;124m'\u001b[39m)\n\u001b[1;32m---> 23\u001b[0m X_train_encodings, X_val_encodings, y_train, y_val \u001b[38;5;241m=\u001b[39m \u001b[43mtrain_test_split\u001b[49m\u001b[43m(\u001b[49m\u001b[43mX_train_encodings\u001b[49m\u001b[43m,\u001b[49m\u001b[43m \u001b[49m\u001b[43my_train\u001b[49m\u001b[43m,\u001b[49m\u001b[43m \u001b[49m\u001b[43mtest_size\u001b[49m\u001b[38;5;241;43m=\u001b[39;49m\u001b[38;5;241;43m0.2\u001b[39;49m\u001b[43m,\u001b[49m\u001b[43m \u001b[49m\u001b[43mrandom_state\u001b[49m\u001b[38;5;241;43m=\u001b[39;49m\u001b[38;5;241;43m42\u001b[39;49m\u001b[43m)\u001b[49m\n\u001b[0;32m     25\u001b[0m model \u001b[38;5;241m=\u001b[39m BertForSequenceClassification\u001b[38;5;241m.\u001b[39mfrom_pretrained(\u001b[38;5;124m'\u001b[39m\u001b[38;5;124mbert-base-uncased\u001b[39m\u001b[38;5;124m'\u001b[39m, num_labels\u001b[38;5;241m=\u001b[39m\u001b[38;5;241m1\u001b[39m)\n\u001b[0;32m     27\u001b[0m training_args \u001b[38;5;241m=\u001b[39m TrainingArguments(\n\u001b[0;32m     28\u001b[0m     output_dir\u001b[38;5;241m=\u001b[39m\u001b[38;5;124m'\u001b[39m\u001b[38;5;124m./results\u001b[39m\u001b[38;5;124m'\u001b[39m,\n\u001b[0;32m     29\u001b[0m     num_train_epochs\u001b[38;5;241m=\u001b[39m\u001b[38;5;241m3\u001b[39m,\n\u001b[1;32m   (...)\u001b[0m\n\u001b[0;32m     34\u001b[0m     logging_dir\u001b[38;5;241m=\u001b[39m\u001b[38;5;124m'\u001b[39m\u001b[38;5;124m./logs\u001b[39m\u001b[38;5;124m'\u001b[39m,\n\u001b[0;32m     35\u001b[0m )\n",
      "File \u001b[1;32m~\\miniconda3\\lib\\site-packages\\sklearn\\model_selection\\_split.py:2559\u001b[0m, in \u001b[0;36mtrain_test_split\u001b[1;34m(test_size, train_size, random_state, shuffle, stratify, *arrays)\u001b[0m\n\u001b[0;32m   2556\u001b[0m \u001b[38;5;28;01mif\u001b[39;00m n_arrays \u001b[38;5;241m==\u001b[39m \u001b[38;5;241m0\u001b[39m:\n\u001b[0;32m   2557\u001b[0m     \u001b[38;5;28;01mraise\u001b[39;00m \u001b[38;5;167;01mValueError\u001b[39;00m(\u001b[38;5;124m\"\u001b[39m\u001b[38;5;124mAt least one array required as input\u001b[39m\u001b[38;5;124m\"\u001b[39m)\n\u001b[1;32m-> 2559\u001b[0m arrays \u001b[38;5;241m=\u001b[39m \u001b[43mindexable\u001b[49m\u001b[43m(\u001b[49m\u001b[38;5;241;43m*\u001b[39;49m\u001b[43marrays\u001b[49m\u001b[43m)\u001b[49m\n\u001b[0;32m   2561\u001b[0m n_samples \u001b[38;5;241m=\u001b[39m _num_samples(arrays[\u001b[38;5;241m0\u001b[39m])\n\u001b[0;32m   2562\u001b[0m n_train, n_test \u001b[38;5;241m=\u001b[39m _validate_shuffle_split(\n\u001b[0;32m   2563\u001b[0m     n_samples, test_size, train_size, default_test_size\u001b[38;5;241m=\u001b[39m\u001b[38;5;241m0.25\u001b[39m\n\u001b[0;32m   2564\u001b[0m )\n",
      "File \u001b[1;32m~\\miniconda3\\lib\\site-packages\\sklearn\\utils\\validation.py:443\u001b[0m, in \u001b[0;36mindexable\u001b[1;34m(*iterables)\u001b[0m\n\u001b[0;32m    424\u001b[0m \u001b[38;5;250m\u001b[39m\u001b[38;5;124;03m\"\"\"Make arrays indexable for cross-validation.\u001b[39;00m\n\u001b[0;32m    425\u001b[0m \n\u001b[0;32m    426\u001b[0m \u001b[38;5;124;03mChecks consistent length, passes through None, and ensures that everything\u001b[39;00m\n\u001b[1;32m   (...)\u001b[0m\n\u001b[0;32m    439\u001b[0m \u001b[38;5;124;03m    sparse matrix, or dataframe) or `None`.\u001b[39;00m\n\u001b[0;32m    440\u001b[0m \u001b[38;5;124;03m\"\"\"\u001b[39;00m\n\u001b[0;32m    442\u001b[0m result \u001b[38;5;241m=\u001b[39m [_make_indexable(X) \u001b[38;5;28;01mfor\u001b[39;00m X \u001b[38;5;129;01min\u001b[39;00m iterables]\n\u001b[1;32m--> 443\u001b[0m \u001b[43mcheck_consistent_length\u001b[49m\u001b[43m(\u001b[49m\u001b[38;5;241;43m*\u001b[39;49m\u001b[43mresult\u001b[49m\u001b[43m)\u001b[49m\n\u001b[0;32m    444\u001b[0m \u001b[38;5;28;01mreturn\u001b[39;00m result\n",
      "File \u001b[1;32m~\\miniconda3\\lib\\site-packages\\sklearn\\utils\\validation.py:397\u001b[0m, in \u001b[0;36mcheck_consistent_length\u001b[1;34m(*arrays)\u001b[0m\n\u001b[0;32m    395\u001b[0m uniques \u001b[38;5;241m=\u001b[39m np\u001b[38;5;241m.\u001b[39munique(lengths)\n\u001b[0;32m    396\u001b[0m \u001b[38;5;28;01mif\u001b[39;00m \u001b[38;5;28mlen\u001b[39m(uniques) \u001b[38;5;241m>\u001b[39m \u001b[38;5;241m1\u001b[39m:\n\u001b[1;32m--> 397\u001b[0m     \u001b[38;5;28;01mraise\u001b[39;00m \u001b[38;5;167;01mValueError\u001b[39;00m(\n\u001b[0;32m    398\u001b[0m         \u001b[38;5;124m\"\u001b[39m\u001b[38;5;124mFound input variables with inconsistent numbers of samples: \u001b[39m\u001b[38;5;132;01m%r\u001b[39;00m\u001b[38;5;124m\"\u001b[39m\n\u001b[0;32m    399\u001b[0m         \u001b[38;5;241m%\u001b[39m [\u001b[38;5;28mint\u001b[39m(l) \u001b[38;5;28;01mfor\u001b[39;00m l \u001b[38;5;129;01min\u001b[39;00m lengths]\n\u001b[0;32m    400\u001b[0m     )\n",
      "\u001b[1;31mValueError\u001b[0m: Found input variables with inconsistent numbers of samples: [3, 1772]"
     ]
    }
   ],
   "source": [
    "X_train = train_data['article_title'].values\n",
    "y_train = train_data['is_ecology'].values\n",
    "\n",
    "X_test = test_data['article_title'].values\n",
    "y_test = test_data['is_ecology'].values\n",
    "\n",
    "max_words = 10000\n",
    "tokenizer = Tokenizer(num_words=max_words)\n",
    "tokenizer.fit_on_texts(X_train)\n",
    "\n",
    "X_train_seq = tokenizer.texts_to_sequences(X_train)\n",
    "X_test_seq = tokenizer.texts_to_sequences(X_test)\n",
    "\n",
    "max_seq_length = 100\n",
    "X_train_pad = pad_sequences(X_train_seq, maxlen=max_seq_length)\n",
    "X_test_pad = pad_sequences(X_test_seq, maxlen=max_seq_length)\n",
    "\n",
    "X_train_pad, X_val_pad, y_train, y_val = train_test_split(X_train_pad, y_train, test_size=0.2, random_state=42)\n",
    "\n",
    "tokenizer = BertTokenizer.from_pretrained('bert-base-uncased', do_lower_case=True)\n",
    "X_train_encodings = tokenizer(list(X_train), padding=True, truncation=True, max_length=max_seq_length, return_tensors='pt')\n",
    "X_test_encodings = tokenizer(list(X_test), padding=True, truncation=True, max_length=max_seq_length, return_tensors='pt')\n",
    "X_train_encodings, X_val_encodings, y_train, y_val = train_test_split(X_train_encodings, y_train, test_size=0.2, random_state=42)\n",
    "\n",
    "model = BertForSequenceClassification.from_pretrained('bert-base-uncased', num_labels=1)\n",
    "\n",
    "training_args = TrainingArguments(\n",
    "    output_dir='./results',\n",
    "    num_train_epochs=3,\n",
    "    per_device_train_batch_size=32,\n",
    "    per_device_eval_batch_size=64,\n",
    "    warmup_steps=500,\n",
    "    weight_decay=0.01,\n",
    "    logging_dir='./logs',\n",
    ")\n",
    "\n",
    "trainer = Trainer(\n",
    "    model=model,\n",
    "    args=training_args,\n",
    "    train_dataset=X_train_encodings,\n",
    "    eval_dataset=X_val_encodings,\n",
    ")\n",
    "\n",
    "trainer.train()\n",
    "\n",
    "# Evaluate BERT model on the test set\n",
    "predictions = trainer.predict(X_test_encodings)\n",
    "bert_accuracy = np.mean((predictions.predictions.squeeze() > 0.5) == y_test)\n",
    "\n",
    "print(f'BERT Accuracy: {bert_accuracy}')\n"
   ]
  },
  {
   "cell_type": "markdown",
   "id": "c633c500",
   "metadata": {},
   "source": [
    "5. Evaluate all models"
   ]
  },
  {
   "cell_type": "code",
   "execution_count": 8,
   "id": "376308f4",
   "metadata": {},
   "outputs": [
    {
     "name": "stdout",
     "output_type": "stream",
     "text": [
      "10/10 [==============================] - 0s 2ms/step - loss: 30.1188 - accuracy: 0.8197\n",
      "10/10 [==============================] - 0s 19ms/step - loss: 1.2557 - accuracy: 0.8265\n",
      "Fully Connected Neural Network Accuracy: 0.819727897644043\n",
      "LSTM Accuracy: 0.8265306353569031\n"
     ]
    },
    {
     "ename": "NameError",
     "evalue": "name 'bert_accuracy' is not defined",
     "output_type": "error",
     "traceback": [
      "\u001b[1;31m---------------------------------------------------------------------------\u001b[0m",
      "\u001b[1;31mNameError\u001b[0m                                 Traceback (most recent call last)",
      "Cell \u001b[1;32mIn[8], line 9\u001b[0m\n\u001b[0;32m      5\u001b[0m \u001b[38;5;28mprint\u001b[39m(\u001b[38;5;124mf\u001b[39m\u001b[38;5;124m'\u001b[39m\u001b[38;5;124mFully Connected Neural Network Accuracy: \u001b[39m\u001b[38;5;132;01m{\u001b[39;00mfcnn_accuracy\u001b[38;5;132;01m}\u001b[39;00m\u001b[38;5;124m'\u001b[39m)\n\u001b[0;32m      6\u001b[0m \u001b[38;5;28mprint\u001b[39m(\u001b[38;5;124mf\u001b[39m\u001b[38;5;124m'\u001b[39m\u001b[38;5;124mLSTM Accuracy: \u001b[39m\u001b[38;5;132;01m{\u001b[39;00mlstm_accuracy\u001b[38;5;132;01m}\u001b[39;00m\u001b[38;5;124m'\u001b[39m)\n\u001b[1;32m----> 9\u001b[0m best_model \u001b[38;5;241m=\u001b[39m model_lstm \u001b[38;5;28;01mif\u001b[39;00m lstm_accuracy \u001b[38;5;241m>\u001b[39m fcnn_accuracy \u001b[38;5;129;01mand\u001b[39;00m lstm_accuracy \u001b[38;5;241m>\u001b[39m \u001b[43mbert_accuracy\u001b[49m \u001b[38;5;28;01melse\u001b[39;00m model_fcnn \u001b[38;5;28;01mif\u001b[39;00m fcnn_accuracy \u001b[38;5;241m>\u001b[39m bert_accuracy \u001b[38;5;28;01melse\u001b[39;00m model_bert\n\u001b[0;32m     10\u001b[0m _, test_accuracy \u001b[38;5;241m=\u001b[39m best_model\u001b[38;5;241m.\u001b[39mevaluate(X_test_pad, y_test)\n\u001b[0;32m     11\u001b[0m \u001b[38;5;28mprint\u001b[39m(\u001b[38;5;124mf\u001b[39m\u001b[38;5;124m'\u001b[39m\u001b[38;5;124mBest Model (based on validation accuracy) Test Accuracy: \u001b[39m\u001b[38;5;132;01m{\u001b[39;00mtest_accuracy\u001b[38;5;132;01m}\u001b[39;00m\u001b[38;5;124m'\u001b[39m)\n",
      "\u001b[1;31mNameError\u001b[0m: name 'bert_accuracy' is not defined"
     ]
    }
   ],
   "source": [
    "_, fcnn_accuracy = model_fcnn.evaluate(X_test_pad, y_test)\n",
    "_, lstm_accuracy = model_lstm.evaluate(X_test_pad, y_test)\n",
    "\n",
    "print(f'Fully Connected Neural Network Accuracy: {fcnn_accuracy}')\n",
    "print(f'LSTM Accuracy: {lstm_accuracy}')\n",
    "\n",
    "\n",
    "best_model = model_lstm if lstm_accuracy > fcnn_accuracy and lstm_accuracy > bert_accuracy else model_fcnn if fcnn_accuracy > bert_accuracy else model_bert\n",
    "_, test_accuracy = best_model.evaluate(X_test_pad, y_test)\n",
    "print(f'Best Model (based on validation accuracy) Test Accuracy: {test_accuracy}')"
   ]
  },
  {
   "cell_type": "code",
   "execution_count": null,
   "id": "3ead8e5d",
   "metadata": {},
   "outputs": [],
   "source": []
  }
 ],
 "metadata": {
  "kernelspec": {
   "display_name": "Python 3 (ipykernel)",
   "language": "python",
   "name": "python3"
  },
  "language_info": {
   "codemirror_mode": {
    "name": "ipython",
    "version": 3
   },
   "file_extension": ".py",
   "mimetype": "text/x-python",
   "name": "python",
   "nbconvert_exporter": "python",
   "pygments_lexer": "ipython3",
   "version": "3.10.9"
  }
 },
 "nbformat": 4,
 "nbformat_minor": 5
}
